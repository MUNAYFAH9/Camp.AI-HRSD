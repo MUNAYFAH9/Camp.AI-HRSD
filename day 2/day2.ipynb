{
 "cells": [
  {
   "cell_type": "code",
   "execution_count": 16,
   "metadata": {},
   "outputs": [
    {
     "name": "stdout",
     "output_type": "stream",
     "text": [
      "Requirement already satisfied: numpy in c:\\users\\adwaa\\appdata\\local\\programs\\python\\python312\\lib\\site-packages (1.26.3)\n",
      "Note: you may need to restart the kernel to use updated packages.\n"
     ]
    }
   ],
   "source": [
    "pip install numpy"
   ]
  },
  {
   "cell_type": "code",
   "execution_count": 17,
   "metadata": {},
   "outputs": [
    {
     "name": "stdout",
     "output_type": "stream",
     "text": [
      "Note: you may need to restart the kernel to use updated packages.\n"
     ]
    },
    {
     "name": "stderr",
     "output_type": "stream",
     "text": [
      "ERROR: unknown command \"pyTelegramBotAPI\"\n",
      "\n"
     ]
    }
   ],
   "source": [
    "pip pyTelegramBotAPI"
   ]
  },
  {
   "cell_type": "code",
   "execution_count": 4,
   "metadata": {},
   "outputs": [],
   "source": [
    "import telebot\n",
    "\n",
    "\n",
    "bot = telebot.TeleBot(\"6791567778:AAEMAwmmPbYrdvNegimb0g2URD4idBFKajc\")\n",
    "\n",
    "@bot.message_handler(commands=['ابدأ'])\n",
    "def handle_start(message):\n",
    "    bot.reply_to(message, \"مرحباً بكم في البوت التجربي\")\n",
    "\n",
    "@bot.message_handler(func=lambda message: True)\n",
    "def handle_text(message):\n",
    "    bot.reply_to(message, message.text)\n",
    "    \n",
    "\n",
    "bot.polling()"
   ]
  },
  {
   "cell_type": "code",
   "execution_count": 2,
   "metadata": {},
   "outputs": [],
   "source": [
    "import telebot\n",
    "import cv2\n",
    "import numpy as np\n",
    "from io import BytesIO\n",
    "\n",
    " \n",
    "bot = telebot.TeleBot(\"6791567778:AAEMAwmmPbYrdvNegimb0g2URD4idBFKajc\")\n",
    "\n",
    " \n",
    "@bot.message_handler(content_types=['photo'])\n",
    "def handle_photo(message):\n",
    "   \n",
    "    file_id = message.photo[-1].file_id\n",
    "    file_info = bot.get_file(file_id)\n",
    "    file = bot.download_file(file_info.file_path)\n",
    "\n",
    "     \n",
    "    np_array = np.frombuffer(file, dtype=np.uint8)\n",
    "    img = cv2.imdecode(np_array, cv2.IMREAD_COLOR)\n",
    " \n",
    "    gray = cv2.cvtColor(img, cv2.COLOR_BGR2GRAY)\n",
    "\n",
    " \n",
    "    face_cascade = cv2.CascadeClassifier(cv2.data.haarcascades + 'haarcascade_frontalface_default.xml')\n",
    "    faces = face_cascade.detectMultiScale(gray, scaleFactor=1.1, minNeighbors=5, minSize=(30, 30))\n",
    "\n",
    "   \n",
    "    for (x, y, w, h) in faces:\n",
    "        cv2.rectangle(img, (x, y), (x+w, y+h), (0, 255, 0), 2)\n",
    "\n",
    "    \n",
    "    processed_image_path = \"processed_image.jpg\"\n",
    "    cv2.imwrite(processed_image_path, img)\n",
    "\n",
    "    \n",
    "    processed_image = open(processed_image_path, \"rb\")\n",
    "    bot.send_photo(message.chat.id, processed_image)\n",
    "\n",
    "   \n",
    "    bot.send_message(message.chat.id, \"تم معالجة الصورة بنجاح!\")\n",
    "\n",
    "bot.polling()"
   ]
  }
 ],
 "metadata": {
  "kernelspec": {
   "display_name": "Python 3",
   "language": "python",
   "name": "python3"
  },
  "language_info": {
   "codemirror_mode": {
    "name": "ipython",
    "version": 3
   },
   "file_extension": ".py",
   "mimetype": "text/x-python",
   "name": "python",
   "nbconvert_exporter": "python",
   "pygments_lexer": "ipython3",
   "version": "3.12.1"
  }
 },
 "nbformat": 4,
 "nbformat_minor": 2
}
